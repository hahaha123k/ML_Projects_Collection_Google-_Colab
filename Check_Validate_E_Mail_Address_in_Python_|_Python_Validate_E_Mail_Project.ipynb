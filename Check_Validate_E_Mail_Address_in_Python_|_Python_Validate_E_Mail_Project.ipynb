{
  "nbformat": 4,
  "nbformat_minor": 0,
  "metadata": {
    "colab": {
      "provenance": [],
      "authorship_tag": "ABX9TyNo967ijNCvxiHQ7UwBWxg0",
      "include_colab_link": true
    },
    "kernelspec": {
      "name": "python3",
      "display_name": "Python 3"
    },
    "language_info": {
      "name": "python"
    }
  },
  "cells": [
    {
      "cell_type": "markdown",
      "metadata": {
        "id": "view-in-github",
        "colab_type": "text"
      },
      "source": [
        "<a href=\"https://colab.research.google.com/github/hahaha123k/ML_Projects_Collection_Google-_Colab/blob/main/Check_Validate_E_Mail_Address_in_Python_%7C_Python_Validate_E_Mail_Project.ipynb\" target=\"_parent\"><img src=\"https://colab.research.google.com/assets/colab-badge.svg\" alt=\"Open In Colab\"/></a>"
      ]
    },
    {
      "cell_type": "code",
      "execution_count": 1,
      "metadata": {
        "id": "KAHBPkhEACf9",
        "colab": {
          "base_uri": "https://localhost:8080/"
        },
        "outputId": "e20c8ce4-d79c-4085-f85f-9f5a24965c48"
      },
      "outputs": [
        {
          "output_type": "stream",
          "name": "stdout",
          "text": [
            "hello\n"
          ]
        }
      ],
      "source": [
        "print('hello')"
      ]
    }
  ]
}