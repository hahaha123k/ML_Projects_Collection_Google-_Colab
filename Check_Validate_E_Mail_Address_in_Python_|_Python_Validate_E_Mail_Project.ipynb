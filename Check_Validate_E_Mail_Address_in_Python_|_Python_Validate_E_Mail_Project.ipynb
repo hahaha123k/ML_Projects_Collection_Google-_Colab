{
  "nbformat": 4,
  "nbformat_minor": 0,
  "metadata": {
    "colab": {
      "provenance": [],
      "authorship_tag": "ABX9TyNHgbTj3+xs/+CaaZhd2vM5",
      "include_colab_link": true
    },
    "kernelspec": {
      "name": "python3",
      "display_name": "Python 3"
    },
    "language_info": {
      "name": "python"
    }
  },
  "cells": [
    {
      "cell_type": "markdown",
      "metadata": {
        "id": "view-in-github",
        "colab_type": "text"
      },
      "source": [
        "<a href=\"https://colab.research.google.com/github/hahaha123k/ML_Projects_Collection_Google-_Colab/blob/main/Check_Validate_E_Mail_Address_in_Python_%7C_Python_Validate_E_Mail_Project.ipynb\" target=\"_parent\"><img src=\"https://colab.research.google.com/assets/colab-badge.svg\" alt=\"Open In Colab\"/></a>"
      ]
    },
    {
      "cell_type": "code",
      "execution_count": 1,
      "metadata": {
        "id": "KAHBPkhEACf9",
        "colab": {
          "base_uri": "https://localhost:8080/"
        },
        "outputId": "b898f5c1-56d4-4a95-8cbd-60e76e9609ba"
      },
      "outputs": [
        {
          "output_type": "stream",
          "name": "stdout",
          "text": [
            "hello     nsttthhuuu\n"
          ]
        }
      ],
      "source": [
        "email=input("Enter Your Email: ")

          j,k,d=0,0,0;
          if len(email)>=6:
              if email[0].isalpha():
                  if ("@" in email) and (email.count("@")==1):
                      if (email[-4]==".") ^ (email[-3]=="."):
                          for i in email :
                              if i==i.isspace():
                                  k=1
                              elif i.isalpha():
                                  if i==i.upper():
                                      j=1
                              elif i.isdigit():
                                  continue
                              elif i=="_" or i=="." or i=="@":
                                  continue
                              else:
                                  d=1
                          if k==1 or j==1 or d==1:
                            print("Invalid Email 6")      
                          else:
                              print("Valid Email 5")
                      else:
                          print("Invalid Email 4")
                  else:
                      print("Invalid Email 3")
              else:
                  print("Invalid Email 2")
          else:
              print("Invalid Email 1")"
      ]
    }
  ]
}
